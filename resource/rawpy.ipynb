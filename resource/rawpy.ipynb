{
 "cells": [
  {
   "attachments": {},
   "cell_type": "markdown",
   "metadata": {},
   "source": [
    "[rawpy :RAW image processing for Python, a wrapper for libraw](https://pypi.org/project/rawpy/0.14.0a1/)"
   ]
  },
  {
   "cell_type": "code",
   "execution_count": 1,
   "metadata": {},
   "outputs": [],
   "source": [
    "import os\n",
    "import glob\n",
    "import rawpy\n",
    "import cv2 as cv\n",
    "import matplotlib.pyplot as plt"
   ]
  },
  {
   "cell_type": "code",
   "execution_count": 2,
   "metadata": {},
   "outputs": [],
   "source": [
    "raw_dir = [path for path in glob.glob(\"/home/lianghao/Documents/Learning/ISP/Image/IPOL_hdrplus_gopro_raw_bursts/hand_iso1600/*\")]\n",
    "raw = rawpy.imread(raw_dir[1])\n",
    "\n",
    "rawpyArgs = {\n",
    "\t\t'demosaic_algorithm' : rawpy.DemosaicAlgorithm.DHT,  # replace by rawpy.DemosaicAlgorithm.LINEAR for bilinear interpolation\n",
    "\t\t'half_size' : False,\n",
    "\t\t'use_camera_wb' : True,  # apply white balance with coefficients saved at capture time\n",
    "\t\t'use_auto_wb' : False,\n",
    "\t\t'no_auto_bright': True,  # set this to False if you want image brightness to be automatically changed (not recommended)\n",
    "\t\t'output_color' : rawpy.ColorSpace.sRGB,\n",
    "\t\t'gamma': (2.4, 12.92),  # approximates the sRGB gamma compression function\n",
    "\t\t'output_bps' : 8\n",
    "\t}"
   ]
  },
  {
   "cell_type": "code",
   "execution_count": 5,
   "metadata": {},
   "outputs": [],
   "source": [
    "image = raw.postprocess(**rawpyArgs)"
   ]
  },
  {
   "cell_type": "code",
   "execution_count": null,
   "metadata": {},
   "outputs": [],
   "source": []
  }
 ],
 "metadata": {
  "kernelspec": {
   "display_name": "isp",
   "language": "python",
   "name": "python3"
  },
  "language_info": {
   "codemirror_mode": {
    "name": "ipython",
    "version": 3
   },
   "file_extension": ".py",
   "mimetype": "text/x-python",
   "name": "python",
   "nbconvert_exporter": "python",
   "pygments_lexer": "ipython3",
   "version": "3.9.0"
  },
  "orig_nbformat": 4
 },
 "nbformat": 4,
 "nbformat_minor": 2
}
