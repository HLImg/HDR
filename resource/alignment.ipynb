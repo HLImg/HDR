{
 "cells": [
  {
   "cell_type": "code",
   "execution_count": 3,
   "metadata": {},
   "outputs": [],
   "source": [
    "import os\n",
    "import glob\n",
    "import rawpy\n",
    "import exifread\n",
    "import cv2 as cv\n",
    "import numpy as np"
   ]
  },
  {
   "cell_type": "code",
   "execution_count": 4,
   "metadata": {},
   "outputs": [],
   "source": [
    "refIndex = 0\n",
    "rawBayers = []\n",
    "burstPath = \"/home/lianghao/Documents/Learning/ISP/Image/IPOL_hdrplus_gopro_raw_bursts/hand_iso1600/\"\n",
    "alignmen_params = {\n",
    "\t\t\t\t'mode': 'bayer',  # images are single image Bayer / Color Filter Arrays\n",
    "\t\t\t\t'tuning': {\n",
    "\t\t\t\t\t# WARNING: these parameters are defined fine-to-coarse!\n",
    "\t\t\t\t\t'factors': [1, 2, 4, 4],\n",
    "\t\t\t\t\t'tileSizes': [16, 16, 16, 8],\n",
    "\t\t\t\t\t'searchRadia': [1, 4, 4, 4],\n",
    "\t\t\t\t\t'distances': ['L1', 'L2', 'L2', 'L2'],\n",
    "\t\t\t\t\t'subpixels': [False, True, True, True]  # if you want to compute subpixel tile alignment at each pyramid level\n",
    "\t\t\t\t},\n",
    "\t\t\t\t# rawpy parameters for images with motion fields\n",
    "\t\t\t\t'rawpyArgs': {\n",
    "\t\t\t\t\t'demosaic_algorithm' : rawpy.DemosaicAlgorithm.AHD,  # used in HDR+ supplement\n",
    "\t\t\t\t\t'half_size' : False,\n",
    "\t\t\t\t\t'use_camera_wb' : True,\n",
    "\t\t\t\t\t'use_auto_wb' : False,\n",
    "\t\t\t\t\t'no_auto_bright': True,\n",
    "\t\t\t\t\t'output_color' : rawpy.ColorSpace.sRGB,  # sRGB\n",
    "\t\t\t\t\t'output_bps' : 8\n",
    "\t\t\t\t},\n",
    "\t\t\t\t'writeMotionFields': False,\n",
    "\t\t\t\t'writeAlignedTiles': False\n",
    "\t\t\t}\n",
    "\n",
    "rawPathList = glob.glob(os.path.join(burstPath, \"*.dng\"))\n",
    "rawPathList.sort()\n",
    "for rawPath in rawPathList:\n",
    "    with rawpy.imread(rawPath) as rawObject:\n",
    "        rawBayers.append(rawObject.raw_image.copy())"
   ]
  },
  {
   "cell_type": "code",
   "execution_count": 5,
   "metadata": {},
   "outputs": [],
   "source": [
    "with rawpy.imread(rawPathList[refIndex]) as refRawpy:\n",
    "    blackLevel = refRawpy.black_level_per_channel.copy()\n",
    "    whiteLevel = refRawpy.white_level"
   ]
  },
  {
   "cell_type": "code",
   "execution_count": 6,
   "metadata": {},
   "outputs": [],
   "source": [
    "h, w = rawBayers[refIndex].shape\n",
    "if alignmen_params[\"mode\"] == \"bayer\":\n",
    "    tileSize = 2 * alignmen_params['tuning']['tileSizes'][0]\n",
    "else:\n",
    "    tileSize = alignmen_params['tuning']['tileSizes'][0]"
   ]
  },
  {
   "cell_type": "code",
   "execution_count": 7,
   "metadata": {},
   "outputs": [],
   "source": [
    "# padding setting \n",
    "padding_height = (tileSize - h % tileSize) % tileSize\n",
    "padding_width = (tileSize - w % tileSize) % tileSize\n",
    "padding_overlap_height, padding_overlap_width = tileSize // 2, tileSize // 2\n",
    "padding_top = padding_overlap_height\n",
    "padding_bottom = padding_overlap_height + padding_height\n",
    "padding_left = padding_overlap_width\n",
    "padding_right = padding_overlap_width + padding_left\n",
    "\n",
    "images_padding = []\n",
    "for i in range(len(rawBayers)):\n",
    "    im = np.pad(rawBayers[i], ((padding_top, padding_bottom), (padding_left, padding_right)), mode=\"symmetric\")\n",
    "    images_padding.append(im)\n",
    "\n",
    "reference = images_padding[refIndex]\n",
    "alternative = images_padding.pop(refIndex)"
   ]
  },
  {
   "attachments": {},
   "cell_type": "markdown",
   "metadata": {},
   "source": [
    "mplements the coarse-to-fine alignment on 4-level gaussian pyramids as defined in Algorithm 1 of Section 3 of the IPOL article."
   ]
  },
  {
   "cell_type": "code",
   "execution_count": 8,
   "metadata": {},
   "outputs": [],
   "source": [
    "def getTiles(a, window, steps=None, axis=None):\n",
    "\tashp = np.array(a.shape)\n",
    "\n",
    "\tif axis is not None:\n",
    "\t\taxs = np.array(axis, ndmin=1)\n",
    "\t\tassert np.all(np.in1d(axs, np.arange(ashp.size))), \"Axes out of range\"\n",
    "\telse:\n",
    "\t\taxs = np.arange(ashp.size)\n",
    "\n",
    "\twindow = np.array(window, ndmin=1)\n",
    "\tassert (window.size == axs.size) | (window.size == 1), \"Window dims and axes don't match\"\n",
    "\twshp = ashp.copy()\n",
    "\twshp[axs] = window\n",
    "\tassert np.all(wshp <= ashp), \"Window is bigger than input array in axes\"\n",
    "\n",
    "\tstp = np.ones_like(ashp)\n",
    "\tif steps:\n",
    "\t\tsteps = np.array(steps, ndmin=1)\n",
    "\t\tassert np.all(steps > 0), \"Only positive steps allowed\"\n",
    "\t\tassert (steps.size == axs.size) | (steps.size == 1), \"Steps and axes don't match\"\n",
    "\t\tstp[axs] = steps\n",
    "\n",
    "\tastr = np.array(a.strides)\n",
    "\n",
    "\tshape = tuple((ashp - wshp) // stp + 1) + tuple(wshp)\n",
    "\tstrides = tuple(astr * stp) + tuple(astr)\n",
    "\tprint(shape, strides)\n",
    "\n",
    "\treturn np.squeeze(np.lib.stride_tricks.as_strided(a, shape=shape, strides=strides))"
   ]
  },
  {
   "cell_type": "code",
   "execution_count": 12,
   "metadata": {},
   "outputs": [
    {
     "name": "stdout",
     "output_type": "stream",
     "text": [
      "(189, 252, 32, 32) (129536, 32, 8096, 2)\n"
     ]
    }
   ],
   "source": [
    "refTiles = getTiles(reference, window=tileSize, steps=tileSize // 2)"
   ]
  },
  {
   "cell_type": "code",
   "execution_count": 13,
   "metadata": {},
   "outputs": [
    {
     "data": {
      "text/plain": [
       "(3040, 4048)"
      ]
     },
     "execution_count": 13,
     "metadata": {},
     "output_type": "execute_result"
    }
   ],
   "source": [
    "reference.shape"
   ]
  },
  {
   "cell_type": "code",
   "execution_count": 9,
   "metadata": {},
   "outputs": [],
   "source": []
  },
  {
   "cell_type": "code",
   "execution_count": 18,
   "metadata": {},
   "outputs": [
    {
     "data": {
      "text/plain": [
       "<matplotlib.image.AxesImage at 0x7f30c34ac2e0>"
      ]
     },
     "execution_count": 18,
     "metadata": {},
     "output_type": "execute_result"
    },
    {
     "data": {
      "image/png": "[encoded data removed]",
      "text/plain": [
       "<Figure size 640x480 with 1 Axes>"
      ]
     },
     "metadata": {},
     "output_type": "display_data"
    }
   ],
   "source": [
    "plt.imshow(refTiles[100][100])"
   ]
  },
  {
   "cell_type": "code",
   "execution_count": 21,
   "metadata": {},
   "outputs": [],
   "source": [
    "b = np.squeeze(np.lib.stride_tricks.as_strided(reference, shape=(189, 252, 32, 32), strides=(129536, 32, 8096, 2)))"
   ]
  },
  {
   "cell_type": "code",
   "execution_count": 22,
   "metadata": {},
   "outputs": [
    {
     "data": {
      "text/plain": [
       "<matplotlib.image.AxesImage at 0x7f30c32a5c40>"
      ]
     },
     "execution_count": 22,
     "metadata": {},
     "output_type": "execute_result"
    },
    {
     "data": {
      "image/png": "[encoded data removed]",
      "text/plain": [
       "<Figure size 640x480 with 1 Axes>"
      ]
     },
     "metadata": {},
     "output_type": "display_data"
    }
   ],
   "source": [
    "plt.imshow(b[100][100])"
   ]
  },
  {
   "cell_type": "code",
   "execution_count": null,
   "metadata": {},
   "outputs": [],
   "source": []
  }
 ],
 "metadata": {
  "kernelspec": {
   "display_name": "isp",
   "language": "python",
   "name": "python3"
  },
  "language_info": {
   "codemirror_mode": {
    "name": "ipython",
    "version": 3
   },
   "file_extension": ".py",
   "mimetype": "text/x-python",
   "name": "python",
   "nbconvert_exporter": "python",
   "pygments_lexer": "ipython3",
   "version": "3.9.0"
  },
  "orig_nbformat": 4
 },
 "nbformat": 4,
 "nbformat_minor": 2
}
