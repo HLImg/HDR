{
 "cells": [
  {
   "cell_type": "code",
   "execution_count": 1,
   "metadata": {},
   "outputs": [],
   "source": [
    "import math\n",
    "import cv2 as cv\n",
    "import numpy as np\n",
    "import matplotlib.pyplot as plt\n",
    "from skimage import img_as_ubyte"
   ]
  },
  {
   "attachments": {},
   "cell_type": "markdown",
   "metadata": {},
   "source": [
    "生成二维高斯核"
   ]
  },
  {
   "cell_type": "code",
   "execution_count": 2,
   "metadata": {},
   "outputs": [],
   "source": [
    "def gaussian(x, y, sigma):\n",
    "    return math.exp(-(x ** 2 + y ** 2) / (2 * sigma ** 2)) / (2 * math.pi * sigma ** 2)\n",
    "\n",
    "def gaussian_kernel(ksize, sigma, normalized=True):\n",
    "    kernel = []\n",
    "    center = ksize // 2 # 计算Gaussian Kernel的中心位置\n",
    "    for i in range(ksize):\n",
    "        row = []\n",
    "        for j in range(ksize):\n",
    "            x = i - center \n",
    "            y = j - center\n",
    "            row.append(gaussian(x, y, sigma))\n",
    "        kernel.append(row)\n",
    "    kernel = np.array(kernel)\n",
    "    if normalized:\n",
    "        kernel = kernel / kernel.sum()\n",
    "    return kernel"
   ]
  },
  {
   "attachments": {},
   "cell_type": "markdown",
   "metadata": {},
   "source": [
    "定义卷积函数"
   ]
  },
  {
   "cell_type": "code",
   "execution_count": 3,
   "metadata": {},
   "outputs": [],
   "source": [
    "def conv2d(image, kernel):\n",
    "    \"\"\"\n",
    "    金字塔的卷积：将高斯滤波器的核与图像的每个像素相乘，然后求和\n",
    "    灰度图像的卷积操作，且image已经归一化\n",
    "    image.shape : (h, w)\n",
    "    kerne : (window, window)，一般是奇数且核是归一化的\n",
    "    \"\"\"\n",
    "    height, width = image.shape\n",
    "    img_convolved = np.zeros_like(image)\n",
    "    window = kernel.shape[0]\n",
    "    radius  = window // 2\n",
    "    img_pad = np.pad(image, pad_width=((radius, radius), (radius, radius)))\n",
    "    \n",
    "    for i in range(height):\n",
    "        for j in range(width):\n",
    "            x = i + radius\n",
    "            y = j + radius\n",
    "            s = img_pad[x - radius : x + radius + 1, y - radius : y + radius + 1]\n",
    "            img_convolved[i, j] = np.sum(s * kernel)\n",
    "    return img_convolved"
   ]
  },
  {
   "attachments": {},
   "cell_type": "markdown",
   "metadata": {},
   "source": [
    "定义下采样函数"
   ]
  },
  {
   "cell_type": "code",
   "execution_count": 4,
   "metadata": {},
   "outputs": [],
   "source": [
    "def downsample(image):\n",
    "    \"\"\"\n",
    "    金字塔下采样，即去除图像的偶数行和列，得到缩小一半的图像\n",
    "    \"\"\"\n",
    "    height, width = image.shape\n",
    "    image_down = np.zeros(shape=(height // 2, width // 2), dtype=image.dtype)\n",
    "    for x in range(height // 2):\n",
    "        for y in range(width // 2):\n",
    "            image_down[x, y] = image[2 * x + 1, 2 * y + 1]\n",
    "    return image_down"
   ]
  },
  {
   "attachments": {},
   "cell_type": "markdown",
   "metadata": {},
   "source": [
    "定义高斯金字塔函数"
   ]
  },
  {
   "cell_type": "code",
   "execution_count": 12,
   "metadata": {},
   "outputs": [],
   "source": [
    "def gaussian_pyramid(image, levels=4, ksize=5, sigma=1, normalized=True):\n",
    "    \"\"\"构建高斯金字塔\n",
    "    Args:\n",
    "        image (_type_): 原始图像\n",
    "        levels (int, optional): 金字塔的层数. Defaults to 4.\n",
    "    \"\"\"\n",
    "    if normalized:\n",
    "        image = image / 255.\n",
    "    pyramid = []\n",
    "    pyramid.append(image)\n",
    "    pyramid_lp  = []\n",
    "    kernel = gaussian_kernel(ksize, sigma, normalized)\n",
    "    # 循环指定层数，或者直到图像尺寸小于高斯核的尺寸为止\n",
    "    for i in range(levels):\n",
    "        if pyramid[-1].shape[0] < 5 or pyramid[-1].shape[1] < 5:\n",
    "            break\n",
    "        # 对当前层的图像进行高斯滤波和下采样操作，得到下一层的图像，并添加到列表中\n",
    "        img_smoothed = conv2d(pyramid[-1], kernel)\n",
    "        img_downsampled = downsample(img_smoothed)\n",
    "        pyramid_lp.append(pyramid[-1] - img_smoothed)\n",
    "        pyramid.append(img_downsampled)\n",
    "        \n",
    "        \n",
    "    return pyramid_lp"
   ]
  },
  {
   "cell_type": "code",
   "execution_count": 13,
   "metadata": {},
   "outputs": [],
   "source": [
    "image = cv.imread(\"/home/Public/Test/denoise/synthetic/Urban100/img_003.png\", -1)"
   ]
  },
  {
   "cell_type": "code",
   "execution_count": 14,
   "metadata": {},
   "outputs": [],
   "source": [
    "pyramid = gaussian_pyramid(image, 4, 5, 2, True)"
   ]
  },
  {
   "cell_type": "code",
   "execution_count": 15,
   "metadata": {},
   "outputs": [],
   "source": [
    "for i in reversed(range(len(pyramid))):\n",
    "    image = pyramid[i]\n",
    "    cv.imwrite(f\"level_{i}.png\", img_as_ubyte(image))"
   ]
  },
  {
   "cell_type": "code",
   "execution_count": null,
   "metadata": {},
   "outputs": [],
   "source": []
  }
 ],
 "metadata": {
  "kernelspec": {
   "display_name": "isp",
   "language": "python",
   "name": "python3"
  },
  "language_info": {
   "codemirror_mode": {
    "name": "ipython",
    "version": 3
   },
   "file_extension": ".py",
   "mimetype": "text/x-python",
   "name": "python",
   "nbconvert_exporter": "python",
   "pygments_lexer": "ipython3",
   "version": "3.9.0"
  },
  "orig_nbformat": 4
 },
 "nbformat": 4,
 "nbformat_minor": 2
}
